{
 "cells": [
  {
   "cell_type": "markdown",
   "id": "bf65935c",
   "metadata": {},
   "source": [
    "## Web scraping automation with Selenium. Forebet.com predictions U_O 2.5 "
   ]
  },
  {
   "cell_type": "markdown",
   "id": "aeac8a19",
   "metadata": {},
   "source": [
    "#### Import libraries"
   ]
  },
  {
   "cell_type": "code",
   "execution_count": 1,
   "id": "96e0a15e",
   "metadata": {},
   "outputs": [],
   "source": [
    "from selenium import webdriver\n",
    "from selenium.webdriver.chrome.service import Service\n",
    "from selenium.webdriver.chrome.options import Options\n",
    "from selenium.webdriver.common.keys import Keys\n",
    "from selenium.webdriver.support.ui import WebDriverWait\n",
    "from selenium.webdriver.support import expected_conditions as EC\n",
    "from selenium.webdriver.common.by import By\n",
    "import pandas as pd\n",
    "import warnings\n",
    "warnings.simplefilter(action='ignore', category=FutureWarning)"
   ]
  },
  {
   "cell_type": "markdown",
   "id": "21b1a659",
   "metadata": {},
   "source": [
    "#### Activate ChromeDriver and open a new session of Chrome"
   ]
  },
  {
   "cell_type": "code",
   "execution_count": 2,
   "id": "4f957663",
   "metadata": {},
   "outputs": [],
   "source": [
    "# Specify the path to the ChromeDriver executable\n",
    "chromedriver_path = 'C:\\WebDrivers\\chromedriver.exe'\n",
    "\n",
    "# Create a new service object with the specified executable path\n",
    "service = Service(chromedriver_path)\n",
    "\n",
    "# Configure the ChromeDriver options\n",
    "options = Options()\n",
    "options.binary_location = r'C:\\Program Files\\Google\\Chrome\\Application\\chrome.exe'\n",
    "#options.add_argument('--headless') # Run Chrome in headless mode\n",
    "\n",
    "# Create a new Chrome WebDriver instance with the custom service and options\n",
    "driver = webdriver.Chrome(service=service, options=options)"
   ]
  },
  {
   "cell_type": "markdown",
   "id": "fae09cdf",
   "metadata": {},
   "source": [
    "#### Open the URL"
   ]
  },
  {
   "cell_type": "code",
   "execution_count": 3,
   "id": "e303b590",
   "metadata": {},
   "outputs": [],
   "source": [
    "# driver get the URL\n",
    "driver.get('https://www.forebet.com/en/football-predictions/under-over-25-goals')"
   ]
  },
  {
   "cell_type": "markdown",
   "id": "0ff2a2a6",
   "metadata": {},
   "source": [
    "#### Press the \"Consent\" button. Use one of the option below "
   ]
  },
  {
   "cell_type": "code",
   "execution_count": 4,
   "id": "06deb3ff",
   "metadata": {},
   "outputs": [],
   "source": [
    "# 1st way. Wait for the cookie button to be clickable and press consent\n",
    "#WebDriverWait(driver, 10).until(EC.element_to_be_clickable((By.CSS_SELECTOR, 'button.fc-button.fc-cta-consent.fc-primary-button > p'))).click()"
   ]
  },
  {
   "cell_type": "code",
   "execution_count": 4,
   "id": "018f482f",
   "metadata": {},
   "outputs": [],
   "source": [
    "# 2nd way. Wait for the cookie button to be clickable and press consent\n",
    "consent_button = driver.find_element(\"xpath\", '(//p[@class=\"fc-button-label\"])[1]')\n",
    "consent_button.click()"
   ]
  },
  {
   "cell_type": "markdown",
   "id": "19c42140",
   "metadata": {},
   "source": [
    "#### Find a way to overpass the iframe. Work in progress....\n",
    "For the moment this step should be done by manually click the iframe arrow when the pop up appears in the bottom down "
   ]
  },
  {
   "cell_type": "code",
   "execution_count": 1,
   "id": "513b073b",
   "metadata": {},
   "outputs": [
    {
     "data": {
      "text/plain": [
       "Ellipsis"
      ]
     },
     "execution_count": 1,
     "metadata": {},
     "output_type": "execute_result"
    }
   ],
   "source": [
    "..."
   ]
  },
  {
   "cell_type": "markdown",
   "id": "3282e1a7",
   "metadata": {},
   "source": [
    "#### Find and click \"More\" button to load all the games"
   ]
  },
  {
   "cell_type": "code",
   "execution_count": 5,
   "id": "6c9e6c45",
   "metadata": {},
   "outputs": [
    {
     "name": "stdout",
     "output_type": "stream",
     "text": [
      "No more buttons to click!\n"
     ]
    }
   ],
   "source": [
    "# Find and click the \"More\" button\n",
    "for i in range(50):\n",
    "    try:\n",
    "        # Wait for the element to become visible and clickable\n",
    "        element = WebDriverWait(driver, 10).until(EC.visibility_of_element_located((By.CSS_SELECTOR, \"#mrows span\")))\n",
    "        # Click the element\n",
    "        element.click()\n",
    "    except:\n",
    "        print(\"No 'more' buttons to click!\")\n",
    "        break"
   ]
  },
  {
   "cell_type": "markdown",
   "id": "1e75d139",
   "metadata": {},
   "source": [
    "#### Define the data frame columns"
   ]
  },
  {
   "cell_type": "code",
   "execution_count": 6,
   "id": "19096f81",
   "metadata": {},
   "outputs": [],
   "source": [
    "# define data frame\n",
    "df_pred = pd.DataFrame(columns=['Date Time', 'Home Team', 'Away Team', 'Under Prob',\n",
    "                                'Over Prob', 'U/O', 'Predicted Score', 'Odds'])"
   ]
  },
  {
   "cell_type": "markdown",
   "id": "39971cac",
   "metadata": {},
   "source": [
    "#### Extract the data and compare the lenght for each column"
   ]
  },
  {
   "cell_type": "code",
   "execution_count": 7,
   "id": "14d1e8fd",
   "metadata": {},
   "outputs": [],
   "source": [
    "date = driver.find_elements(\"xpath\", '//time[@itemprop=\"startDate\"]/span')"
   ]
  },
  {
   "cell_type": "code",
   "execution_count": 8,
   "id": "5415d66e",
   "metadata": {},
   "outputs": [
    {
     "data": {
      "text/plain": [
       "1565"
      ]
     },
     "execution_count": 8,
     "metadata": {},
     "output_type": "execute_result"
    }
   ],
   "source": [
    "len(date)"
   ]
  },
  {
   "cell_type": "code",
   "execution_count": 9,
   "id": "bdb2454b",
   "metadata": {},
   "outputs": [],
   "source": [
    "home_team = driver.find_elements(\"xpath\", '(//span[@class=\"homeTeam\"])/span[1]')"
   ]
  },
  {
   "cell_type": "code",
   "execution_count": 10,
   "id": "35b06c4b",
   "metadata": {},
   "outputs": [
    {
     "data": {
      "text/plain": [
       "1565"
      ]
     },
     "execution_count": 10,
     "metadata": {},
     "output_type": "execute_result"
    }
   ],
   "source": [
    "len(home_team)"
   ]
  },
  {
   "cell_type": "code",
   "execution_count": 11,
   "id": "3b7c2ed6",
   "metadata": {},
   "outputs": [],
   "source": [
    "away_team = driver.find_elements(\"xpath\", '(//span[@class=\"awayTeam\"])/span[1]')"
   ]
  },
  {
   "cell_type": "code",
   "execution_count": 12,
   "id": "75d81c3f",
   "metadata": {},
   "outputs": [
    {
     "data": {
      "text/plain": [
       "1565"
      ]
     },
     "execution_count": 12,
     "metadata": {},
     "output_type": "execute_result"
    }
   ],
   "source": [
    "len(away_team)"
   ]
  },
  {
   "cell_type": "code",
   "execution_count": 13,
   "id": "ccddf902",
   "metadata": {},
   "outputs": [],
   "source": [
    "under_prob = driver.find_elements(\"xpath\", '(//div[@class=\"fprc\"])/span[1]')"
   ]
  },
  {
   "cell_type": "code",
   "execution_count": 14,
   "id": "8a212e81",
   "metadata": {},
   "outputs": [
    {
     "data": {
      "text/plain": [
       "1563"
      ]
     },
     "execution_count": 14,
     "metadata": {},
     "output_type": "execute_result"
    }
   ],
   "source": [
    "len(under_prob)"
   ]
  },
  {
   "cell_type": "code",
   "execution_count": 15,
   "id": "c5bd851c",
   "metadata": {},
   "outputs": [],
   "source": [
    "over_prob = driver.find_elements(\"xpath\", '(//div[@class=\"fprc\"])/span[2]')"
   ]
  },
  {
   "cell_type": "code",
   "execution_count": 16,
   "id": "8f8ab2de",
   "metadata": {},
   "outputs": [
    {
     "data": {
      "text/plain": [
       "1563"
      ]
     },
     "execution_count": 16,
     "metadata": {},
     "output_type": "execute_result"
    }
   ],
   "source": [
    "len(over_prob)"
   ]
  },
  {
   "cell_type": "code",
   "execution_count": 17,
   "id": "5b03c31b",
   "metadata": {},
   "outputs": [],
   "source": [
    "u_o = driver.find_elements(\"xpath\", '(//span[starts-with(@class, \"forepr \")])/span')"
   ]
  },
  {
   "cell_type": "code",
   "execution_count": 18,
   "id": "9ed81dc7",
   "metadata": {},
   "outputs": [
    {
     "data": {
      "text/plain": [
       "1563"
      ]
     },
     "execution_count": 18,
     "metadata": {},
     "output_type": "execute_result"
    }
   ],
   "source": [
    "len(u_o)"
   ]
  },
  {
   "cell_type": "code",
   "execution_count": 19,
   "id": "5d46ac9a",
   "metadata": {},
   "outputs": [],
   "source": [
    "predicted_score = driver.find_elements(\"xpath\", '(//div[starts-with(@class, \"rcnt \")])/div[5]')"
   ]
  },
  {
   "cell_type": "code",
   "execution_count": 20,
   "id": "ad405bd0",
   "metadata": {},
   "outputs": [
    {
     "data": {
      "text/plain": [
       "1563"
      ]
     },
     "execution_count": 20,
     "metadata": {},
     "output_type": "execute_result"
    }
   ],
   "source": [
    "len(predicted_score)"
   ]
  },
  {
   "cell_type": "code",
   "execution_count": 21,
   "id": "3996d293",
   "metadata": {},
   "outputs": [],
   "source": [
    "odds = driver.find_elements(\"xpath\", '(//div[starts-with(@class, \"rcnt \")])/div[8]/span')"
   ]
  },
  {
   "cell_type": "code",
   "execution_count": 22,
   "id": "0b42869a",
   "metadata": {},
   "outputs": [
    {
     "data": {
      "text/plain": [
       "1563"
      ]
     },
     "execution_count": 22,
     "metadata": {},
     "output_type": "execute_result"
    }
   ],
   "source": [
    "len(odds)"
   ]
  },
  {
   "cell_type": "code",
   "execution_count": 23,
   "id": "cc50c3bf",
   "metadata": {},
   "outputs": [
    {
     "data": {
      "text/plain": [
       "1563"
      ]
     },
     "execution_count": 23,
     "metadata": {},
     "output_type": "execute_result"
    }
   ],
   "source": [
    "len(u_o)"
   ]
  },
  {
   "cell_type": "markdown",
   "id": "8ee9fa7f",
   "metadata": {},
   "source": [
    "#### Append all the data to the Data Frame and preview the df_pred\n",
    "Here there is room for improvement. Right now it takes a bit of time to append due to the amount of data it needs to scrape."
   ]
  },
  {
   "cell_type": "code",
   "execution_count": 24,
   "id": "4b5a6a31",
   "metadata": {},
   "outputs": [],
   "source": [
    "# in Dataframe appenden\n",
    "for i in range(len(odds)):\n",
    "\n",
    "    df_pred =df_pred.append({'Date Time':date[i].text, 'Home Team': home_team[i].text,\n",
    "                            'Away Team': away_team[i].text, 'Under Prob': under_prob[i].text, \n",
    "                            'Over Prob': over_prob[i].text, 'U/O': u_o[i].text,\n",
    "                            'Predicted Score': predicted_score[i].text, 'Odds': odds[i].text}, ignore_index=True)"
   ]
  },
  {
   "cell_type": "code",
   "execution_count": 25,
   "id": "0f6845c8",
   "metadata": {},
   "outputs": [
    {
     "data": {
      "text/html": [
       "<div>\n",
       "<style scoped>\n",
       "    .dataframe tbody tr th:only-of-type {\n",
       "        vertical-align: middle;\n",
       "    }\n",
       "\n",
       "    .dataframe tbody tr th {\n",
       "        vertical-align: top;\n",
       "    }\n",
       "\n",
       "    .dataframe thead th {\n",
       "        text-align: right;\n",
       "    }\n",
       "</style>\n",
       "<table border=\"1\" class=\"dataframe\">\n",
       "  <thead>\n",
       "    <tr style=\"text-align: right;\">\n",
       "      <th></th>\n",
       "      <th>Date Time</th>\n",
       "      <th>Home Team</th>\n",
       "      <th>Away Team</th>\n",
       "      <th>Under Prob</th>\n",
       "      <th>Over Prob</th>\n",
       "      <th>U/O</th>\n",
       "      <th>Predicted Score</th>\n",
       "      <th>Odds</th>\n",
       "    </tr>\n",
       "  </thead>\n",
       "  <tbody>\n",
       "    <tr>\n",
       "      <th>0</th>\n",
       "      <td>3/6/2023 16:00</td>\n",
       "      <td>Manchester City</td>\n",
       "      <td>Manchester United</td>\n",
       "      <td>52</td>\n",
       "      <td>48</td>\n",
       "      <td>Under</td>\n",
       "      <td>1 - 0</td>\n",
       "      <td>2.30</td>\n",
       "    </tr>\n",
       "    <tr>\n",
       "      <th>1</th>\n",
       "      <td>3/6/2023 21:00</td>\n",
       "      <td>Troyes AC</td>\n",
       "      <td>Lille OSC</td>\n",
       "      <td>58</td>\n",
       "      <td>42</td>\n",
       "      <td>Under</td>\n",
       "      <td>0 - 2</td>\n",
       "      <td>3.00</td>\n",
       "    </tr>\n",
       "    <tr>\n",
       "      <th>2</th>\n",
       "      <td>3/6/2023 21:00</td>\n",
       "      <td>FC Nantes</td>\n",
       "      <td>Angers SCO</td>\n",
       "      <td>46</td>\n",
       "      <td>54</td>\n",
       "      <td>Over</td>\n",
       "      <td>2 - 1</td>\n",
       "      <td>1.67</td>\n",
       "    </tr>\n",
       "    <tr>\n",
       "      <th>3</th>\n",
       "      <td>3/6/2023 21:00</td>\n",
       "      <td>OGC Nice</td>\n",
       "      <td>Lyon</td>\n",
       "      <td>51</td>\n",
       "      <td>49</td>\n",
       "      <td>Under</td>\n",
       "      <td>0 - 2</td>\n",
       "      <td>-</td>\n",
       "    </tr>\n",
       "    <tr>\n",
       "      <th>4</th>\n",
       "      <td>3/6/2023 21:00</td>\n",
       "      <td>AC Ajaccio</td>\n",
       "      <td>Olympique Marseille</td>\n",
       "      <td>48</td>\n",
       "      <td>52</td>\n",
       "      <td>Over</td>\n",
       "      <td>1 - 2</td>\n",
       "      <td>1.62</td>\n",
       "    </tr>\n",
       "    <tr>\n",
       "      <th>...</th>\n",
       "      <td>...</td>\n",
       "      <td>...</td>\n",
       "      <td>...</td>\n",
       "      <td>...</td>\n",
       "      <td>...</td>\n",
       "      <td>...</td>\n",
       "      <td>...</td>\n",
       "      <td>...</td>\n",
       "    </tr>\n",
       "    <tr>\n",
       "      <th>1558</th>\n",
       "      <td>4/6/2023 15:00</td>\n",
       "      <td>Green Fuel</td>\n",
       "      <td>Platinum FC</td>\n",
       "      <td>90</td>\n",
       "      <td>10</td>\n",
       "      <td>Under</td>\n",
       "      <td>0 - 1</td>\n",
       "      <td>-</td>\n",
       "    </tr>\n",
       "    <tr>\n",
       "      <th>1559</th>\n",
       "      <td>4/6/2023 15:00</td>\n",
       "      <td>Dynamos FC (ZIM)</td>\n",
       "      <td>ZPC Kariba</td>\n",
       "      <td>82</td>\n",
       "      <td>18</td>\n",
       "      <td>Under</td>\n",
       "      <td>2 - 0</td>\n",
       "      <td>-</td>\n",
       "    </tr>\n",
       "    <tr>\n",
       "      <th>1560</th>\n",
       "      <td>4/6/2023 15:00</td>\n",
       "      <td>Hwange Colliery</td>\n",
       "      <td>Manica Diamonds FC</td>\n",
       "      <td>62</td>\n",
       "      <td>38</td>\n",
       "      <td>Under</td>\n",
       "      <td>1 - 1</td>\n",
       "      <td>-</td>\n",
       "    </tr>\n",
       "    <tr>\n",
       "      <th>1561</th>\n",
       "      <td>4/6/2023 15:00</td>\n",
       "      <td>Highlanders FC</td>\n",
       "      <td>Bulawayo Chiefs</td>\n",
       "      <td>59</td>\n",
       "      <td>41</td>\n",
       "      <td>Under</td>\n",
       "      <td>0 - 0</td>\n",
       "      <td>-</td>\n",
       "    </tr>\n",
       "    <tr>\n",
       "      <th>1562</th>\n",
       "      <td>5/6/2023 15:00</td>\n",
       "      <td>Yadah Stars FC</td>\n",
       "      <td>Ngezi Platinum Stars</td>\n",
       "      <td>67</td>\n",
       "      <td>33</td>\n",
       "      <td>Under</td>\n",
       "      <td>0 - 1</td>\n",
       "      <td>-</td>\n",
       "    </tr>\n",
       "  </tbody>\n",
       "</table>\n",
       "<p>1563 rows × 8 columns</p>\n",
       "</div>"
      ],
      "text/plain": [
       "           Date Time         Home Team             Away Team Under Prob  \\\n",
       "0     3/6/2023 16:00   Manchester City     Manchester United         52   \n",
       "1     3/6/2023 21:00         Troyes AC             Lille OSC         58   \n",
       "2     3/6/2023 21:00         FC Nantes            Angers SCO         46   \n",
       "3     3/6/2023 21:00          OGC Nice                  Lyon         51   \n",
       "4     3/6/2023 21:00        AC Ajaccio   Olympique Marseille         48   \n",
       "...              ...               ...                   ...        ...   \n",
       "1558  4/6/2023 15:00        Green Fuel           Platinum FC         90   \n",
       "1559  4/6/2023 15:00  Dynamos FC (ZIM)            ZPC Kariba         82   \n",
       "1560  4/6/2023 15:00   Hwange Colliery    Manica Diamonds FC         62   \n",
       "1561  4/6/2023 15:00    Highlanders FC       Bulawayo Chiefs         59   \n",
       "1562  5/6/2023 15:00    Yadah Stars FC  Ngezi Platinum Stars         67   \n",
       "\n",
       "     Over Prob    U/O Predicted Score  Odds  \n",
       "0           48  Under           1 - 0  2.30  \n",
       "1           42  Under           0 - 2  3.00  \n",
       "2           54   Over           2 - 1  1.67  \n",
       "3           49  Under           0 - 2     -  \n",
       "4           52   Over           1 - 2  1.62  \n",
       "...        ...    ...             ...   ...  \n",
       "1558        10  Under           0 - 1     -  \n",
       "1559        18  Under           2 - 0     -  \n",
       "1560        38  Under           1 - 1     -  \n",
       "1561        41  Under           0 - 0     -  \n",
       "1562        33  Under           0 - 1     -  \n",
       "\n",
       "[1563 rows x 8 columns]"
      ]
     },
     "execution_count": 25,
     "metadata": {},
     "output_type": "execute_result"
    }
   ],
   "source": [
    "df_pred"
   ]
  },
  {
   "cell_type": "markdown",
   "id": "55927d8d",
   "metadata": {},
   "source": [
    "#### Split the columns \"Date\", \"Predicted Score\" and \"Probability\" and drop them"
   ]
  },
  {
   "cell_type": "code",
   "execution_count": 26,
   "id": "d732e4a2",
   "metadata": {},
   "outputs": [],
   "source": [
    "df_pred[['Date', 'Time']] = df_pred['Date Time'].str.split(' ', expand=True)\n",
    "df_pred[['Score Home', 'Score Away']] = df_pred['Predicted Score'].str.split('-', expand=True)\n",
    "\n",
    "# drop the columns not needed\n",
    "df_pred = df_pred.drop(['Date Time', 'Predicted Score'], axis=1)"
   ]
  },
  {
   "cell_type": "markdown",
   "id": "7787751d",
   "metadata": {},
   "source": [
    "#### Re-arrange the columns"
   ]
  },
  {
   "cell_type": "code",
   "execution_count": 27,
   "id": "861e7964",
   "metadata": {},
   "outputs": [],
   "source": [
    "# re arrange the columns \n",
    "df_pred = df_pred[['Date', 'Time', 'Home Team', 'Away Team', 'Under Prob', 'Over Prob', 'U/O', 'Score Home', \n",
    "         'Score Away', 'Odds']]"
   ]
  },
  {
   "cell_type": "code",
   "execution_count": 29,
   "id": "9b07b5d1",
   "metadata": {},
   "outputs": [
    {
     "data": {
      "text/html": [
       "<div>\n",
       "<style scoped>\n",
       "    .dataframe tbody tr th:only-of-type {\n",
       "        vertical-align: middle;\n",
       "    }\n",
       "\n",
       "    .dataframe tbody tr th {\n",
       "        vertical-align: top;\n",
       "    }\n",
       "\n",
       "    .dataframe thead th {\n",
       "        text-align: right;\n",
       "    }\n",
       "</style>\n",
       "<table border=\"1\" class=\"dataframe\">\n",
       "  <thead>\n",
       "    <tr style=\"text-align: right;\">\n",
       "      <th></th>\n",
       "      <th>Date</th>\n",
       "      <th>Time</th>\n",
       "      <th>Home Team</th>\n",
       "      <th>Away Team</th>\n",
       "      <th>Under Prob</th>\n",
       "      <th>Over Prob</th>\n",
       "      <th>U/O</th>\n",
       "      <th>Score Home</th>\n",
       "      <th>Score Away</th>\n",
       "      <th>Odds</th>\n",
       "    </tr>\n",
       "  </thead>\n",
       "  <tbody>\n",
       "    <tr>\n",
       "      <th>0</th>\n",
       "      <td>18/5/2023</td>\n",
       "      <td>20:30</td>\n",
       "      <td>Newcastle United</td>\n",
       "      <td>Brighton</td>\n",
       "      <td>59</td>\n",
       "      <td>41</td>\n",
       "      <td>Under</td>\n",
       "      <td>0</td>\n",
       "      <td>2</td>\n",
       "      <td>2.30</td>\n",
       "    </tr>\n",
       "    <tr>\n",
       "      <th>1</th>\n",
       "      <td>20/5/2023</td>\n",
       "      <td>13:30</td>\n",
       "      <td>Tottenham</td>\n",
       "      <td>Brentford</td>\n",
       "      <td>60</td>\n",
       "      <td>40</td>\n",
       "      <td>Under</td>\n",
       "      <td>1</td>\n",
       "      <td>1</td>\n",
       "      <td>2.10</td>\n",
       "    </tr>\n",
       "    <tr>\n",
       "      <th>2</th>\n",
       "      <td>20/5/2023</td>\n",
       "      <td>16:00</td>\n",
       "      <td>Bournemouth</td>\n",
       "      <td>Manchester United</td>\n",
       "      <td>38</td>\n",
       "      <td>62</td>\n",
       "      <td>Over</td>\n",
       "      <td>1</td>\n",
       "      <td>3</td>\n",
       "      <td>1.53</td>\n",
       "    </tr>\n",
       "    <tr>\n",
       "      <th>3</th>\n",
       "      <td>20/5/2023</td>\n",
       "      <td>16:00</td>\n",
       "      <td>Fulham</td>\n",
       "      <td>Crystal Palace</td>\n",
       "      <td>37</td>\n",
       "      <td>63</td>\n",
       "      <td>Over</td>\n",
       "      <td>2</td>\n",
       "      <td>1</td>\n",
       "      <td>2.00</td>\n",
       "    </tr>\n",
       "    <tr>\n",
       "      <th>4</th>\n",
       "      <td>20/5/2023</td>\n",
       "      <td>16:00</td>\n",
       "      <td>Liverpool</td>\n",
       "      <td>Aston Villa</td>\n",
       "      <td>49</td>\n",
       "      <td>51</td>\n",
       "      <td>Over</td>\n",
       "      <td>2</td>\n",
       "      <td>1</td>\n",
       "      <td>1.53</td>\n",
       "    </tr>\n",
       "    <tr>\n",
       "      <th>...</th>\n",
       "      <td>...</td>\n",
       "      <td>...</td>\n",
       "      <td>...</td>\n",
       "      <td>...</td>\n",
       "      <td>...</td>\n",
       "      <td>...</td>\n",
       "      <td>...</td>\n",
       "      <td>...</td>\n",
       "      <td>...</td>\n",
       "      <td>...</td>\n",
       "    </tr>\n",
       "    <tr>\n",
       "      <th>2205</th>\n",
       "      <td>27/5/2023</td>\n",
       "      <td>0:00</td>\n",
       "      <td>Lumwana Radiants</td>\n",
       "      <td>Man Utd Zambia</td>\n",
       "      <td>42</td>\n",
       "      <td>58</td>\n",
       "      <td>Over</td>\n",
       "      <td>1</td>\n",
       "      <td>2</td>\n",
       "      <td>-</td>\n",
       "    </tr>\n",
       "    <tr>\n",
       "      <th>2206</th>\n",
       "      <td>27/5/2023</td>\n",
       "      <td>0:00</td>\n",
       "      <td>Prison Leopards</td>\n",
       "      <td>Napsa Stars</td>\n",
       "      <td>56</td>\n",
       "      <td>44</td>\n",
       "      <td>Under</td>\n",
       "      <td>0</td>\n",
       "      <td>2</td>\n",
       "      <td>-</td>\n",
       "    </tr>\n",
       "    <tr>\n",
       "      <th>2207</th>\n",
       "      <td>27/5/2023</td>\n",
       "      <td>0:00</td>\n",
       "      <td>Green Buffaloes</td>\n",
       "      <td>Zanaco FC</td>\n",
       "      <td>56</td>\n",
       "      <td>44</td>\n",
       "      <td>Under</td>\n",
       "      <td>2</td>\n",
       "      <td>0</td>\n",
       "      <td>-</td>\n",
       "    </tr>\n",
       "    <tr>\n",
       "      <th>2208</th>\n",
       "      <td>27/5/2023</td>\n",
       "      <td>0:00</td>\n",
       "      <td>Nkana FC</td>\n",
       "      <td>Kansanshi Dynamos</td>\n",
       "      <td>81</td>\n",
       "      <td>19</td>\n",
       "      <td>Under</td>\n",
       "      <td>0</td>\n",
       "      <td>0</td>\n",
       "      <td>-</td>\n",
       "    </tr>\n",
       "    <tr>\n",
       "      <th>2209</th>\n",
       "      <td>27/5/2023</td>\n",
       "      <td>0:00</td>\n",
       "      <td>Nkwazi FC</td>\n",
       "      <td>Green Eagles</td>\n",
       "      <td>68</td>\n",
       "      <td>32</td>\n",
       "      <td>Under</td>\n",
       "      <td>0</td>\n",
       "      <td>0</td>\n",
       "      <td>-</td>\n",
       "    </tr>\n",
       "  </tbody>\n",
       "</table>\n",
       "<p>2210 rows × 10 columns</p>\n",
       "</div>"
      ],
      "text/plain": [
       "           Date   Time         Home Team          Away Team Under Prob  \\\n",
       "0     18/5/2023  20:30  Newcastle United           Brighton         59   \n",
       "1     20/5/2023  13:30         Tottenham          Brentford         60   \n",
       "2     20/5/2023  16:00       Bournemouth  Manchester United         38   \n",
       "3     20/5/2023  16:00            Fulham     Crystal Palace         37   \n",
       "4     20/5/2023  16:00         Liverpool        Aston Villa         49   \n",
       "...         ...    ...               ...                ...        ...   \n",
       "2205  27/5/2023   0:00  Lumwana Radiants     Man Utd Zambia         42   \n",
       "2206  27/5/2023   0:00   Prison Leopards        Napsa Stars         56   \n",
       "2207  27/5/2023   0:00   Green Buffaloes          Zanaco FC         56   \n",
       "2208  27/5/2023   0:00          Nkana FC  Kansanshi Dynamos         81   \n",
       "2209  27/5/2023   0:00         Nkwazi FC       Green Eagles         68   \n",
       "\n",
       "     Over Prob    U/O Score Home Score Away  Odds  \n",
       "0           41  Under         0           2  2.30  \n",
       "1           40  Under         1           1  2.10  \n",
       "2           62   Over         1           3  1.53  \n",
       "3           63   Over         2           1  2.00  \n",
       "4           51   Over         2           1  1.53  \n",
       "...        ...    ...        ...        ...   ...  \n",
       "2205        58   Over         1           2     -  \n",
       "2206        44  Under         0           2     -  \n",
       "2207        44  Under         2           0     -  \n",
       "2208        19  Under         0           0     -  \n",
       "2209        32  Under         0           0     -  \n",
       "\n",
       "[2210 rows x 10 columns]"
      ]
     },
     "execution_count": 29,
     "metadata": {},
     "output_type": "execute_result"
    }
   ],
   "source": [
    "df_pred"
   ]
  },
  {
   "cell_type": "markdown",
   "id": "f12edaac",
   "metadata": {},
   "source": [
    "#### Store the data in CSV format "
   ]
  },
  {
   "cell_type": "code",
   "execution_count": 28,
   "id": "2a111f56",
   "metadata": {},
   "outputs": [],
   "source": [
    "# create csv\n",
    "df_pred.to_csv('Extract O-U 2.5.csv', encoding='utf-8', index=False)"
   ]
  },
  {
   "cell_type": "code",
   "execution_count": null,
   "id": "5f60f439",
   "metadata": {},
   "outputs": [],
   "source": []
  }
 ],
 "metadata": {
  "kernelspec": {
   "display_name": "Python 3 (ipykernel)",
   "language": "python",
   "name": "python3"
  },
  "language_info": {
   "codemirror_mode": {
    "name": "ipython",
    "version": 3
   },
   "file_extension": ".py",
   "mimetype": "text/x-python",
   "name": "python",
   "nbconvert_exporter": "python",
   "pygments_lexer": "ipython3",
   "version": "3.10.9"
  }
 },
 "nbformat": 4,
 "nbformat_minor": 5
}

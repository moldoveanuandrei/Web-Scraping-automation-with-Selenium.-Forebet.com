{
 "cells": [
  {
   "cell_type": "markdown",
   "id": "bf65935c",
   "metadata": {},
   "source": [
    "## Web scraping automation with Selenium. Forebet.com predictions U_O 2.5 "
   ]
  },
  {
   "cell_type": "markdown",
   "id": "aeac8a19",
   "metadata": {},
   "source": [
    "#### Import libraries"
   ]
  },
  {
   "cell_type": "code",
   "execution_count": 1,
   "id": "96e0a15e",
   "metadata": {
    "collapsed": true
   },
   "outputs": [
    {
     "name": "stderr",
     "output_type": "stream",
     "text": [
      "\n",
      "KeyboardInterrupt\n",
      "\n"
     ]
    }
   ],
   "source": [
    "from selenium import webdriver\n",
    "from selenium.webdriver.chrome.service import Service\n",
    "from selenium.webdriver.chrome.options import Options\n",
    "from selenium.webdriver.common.keys import Keys\n",
    "from selenium.webdriver.support.ui import WebDriverWait\n",
    "from selenium.webdriver.support import expected_conditions as EC\n",
    "from selenium.webdriver.common.by import By\n",
    "import pandas as pd\n",
    "import warnings\n",
    "warnings.simplefilter(action='ignore', category=FutureWarning)"
   ]
  },
  {
   "cell_type": "markdown",
   "id": "21b1a659",
   "metadata": {},
   "source": [
    "#### Activate ChromeDriver and open a new session of Chrome"
   ]
  },
  {
   "cell_type": "code",
   "execution_count": null,
   "id": "4f957663",
   "metadata": {},
   "outputs": [],
   "source": [
    "# Specify the path to the ChromeDriver executable\n",
    "chromedriver_path = 'C:\\WebDrivers\\chromedriver.exe'\n",
    "\n",
    "# Create a new service object with the specified executable path\n",
    "service = Service(chromedriver_path)\n",
    "\n",
    "# Configure the ChromeDriver options\n",
    "options = Options()\n",
    "options.binary_location = r'C:\\Program Files\\Google\\Chrome\\Application\\chrome.exe'\n",
    "#options.add_argument('--headless') # Run Chrome in headless mode\n",
    "\n",
    "# Create a new Chrome WebDriver instance with the custom service and options\n",
    "driver = webdriver.Chrome(service=service, options=options)"
   ]
  },
  {
   "cell_type": "markdown",
   "id": "fae09cdf",
   "metadata": {},
   "source": [
    "#### Open the URL"
   ]
  },
  {
   "cell_type": "code",
   "execution_count": null,
   "id": "e303b590",
   "metadata": {},
   "outputs": [],
   "source": [
    "# driver get the URL\n",
    "driver.get('https://www.forebet.com/en/football-predictions/under-over-25-goals')"
   ]
  },
  {
   "cell_type": "markdown",
   "id": "0ff2a2a6",
   "metadata": {},
   "source": [
    "#### Press the \"Consent\" button. Use one of the option below "
   ]
  },
  {
   "cell_type": "code",
   "execution_count": null,
   "id": "06deb3ff",
   "metadata": {},
   "outputs": [],
   "source": [
    "# 1st way. Wait for the cookie button to be clickable and press consent\n",
    "#WebDriverWait(driver, 10).until(EC.element_to_be_clickable((By.CSS_SELECTOR, 'button.fc-button.fc-cta-consent.fc-primary-button > p'))).click()"
   ]
  },
  {
   "cell_type": "code",
   "execution_count": null,
   "id": "018f482f",
   "metadata": {},
   "outputs": [],
   "source": [
    "# 2nd way. Wait for the cookie button to be clickable and press consent\n",
    "consent_button = driver.find_element(\"xpath\", '(//p[@class=\"fc-button-label\"])[1]')\n",
    "consent_button.click()"
   ]
  },
  {
   "cell_type": "markdown",
   "id": "19c42140",
   "metadata": {},
   "source": [
    "#### Find a way to overpass the iframe. Work in progress....\n",
    "For the moment this step should be done by manually click the iframe arrow when the pop up appears in the bottom down "
   ]
  },
  {
   "cell_type": "code",
   "execution_count": null,
   "id": "513b073b",
   "metadata": {},
   "outputs": [],
   "source": [
    "..."
   ]
  },
  {
   "cell_type": "markdown",
   "id": "3282e1a7",
   "metadata": {},
   "source": [
    "#### Find and click \"More\" button to load all the games"
   ]
  },
  {
   "cell_type": "code",
   "execution_count": null,
   "id": "6c9e6c45",
   "metadata": {},
   "outputs": [],
   "source": [
    "# Find and click the \"More\" button\n",
    "for i in range(50):\n",
    "    try:\n",
    "        # Wait for the element to become visible and clickable\n",
    "        element = WebDriverWait(driver, 10).until(EC.visibility_of_element_located((By.CSS_SELECTOR, \"#mrows span\")))\n",
    "        # Click the element\n",
    "        element.click()\n",
    "    except:\n",
    "        print(\"No 'more' buttons to click!\")\n",
    "        break"
   ]
  },
  {
   "cell_type": "markdown",
   "id": "1e75d139",
   "metadata": {},
   "source": [
    "#### Define the data frame columns"
   ]
  },
  {
   "cell_type": "code",
   "execution_count": null,
   "id": "19096f81",
   "metadata": {},
   "outputs": [],
   "source": [
    "# define data frame\n",
    "df_pred = pd.DataFrame(columns=['Date Time', 'Home Team', 'Away Team', 'Under Prob',\n",
    "                                'Over Prob', 'U/O', 'Predicted Score', 'Odds'])"
   ]
  },
  {
   "cell_type": "markdown",
   "id": "39971cac",
   "metadata": {},
   "source": [
    "#### Extract the data and compare the lenght for each column"
   ]
  },
  {
   "cell_type": "code",
   "execution_count": null,
   "id": "14d1e8fd",
   "metadata": {},
   "outputs": [],
   "source": [
    "date = driver.find_elements(\"xpath\", '//time[@itemprop=\"startDate\"]/span')"
   ]
  },
  {
   "cell_type": "code",
   "execution_count": null,
   "id": "5415d66e",
   "metadata": {},
   "outputs": [],
   "source": [
    "len(date)"
   ]
  },
  {
   "cell_type": "code",
   "execution_count": null,
   "id": "bdb2454b",
   "metadata": {},
   "outputs": [],
   "source": [
    "home_team = driver.find_elements(\"xpath\", '(//span[@class=\"homeTeam\"])/span[1]')"
   ]
  },
  {
   "cell_type": "code",
   "execution_count": null,
   "id": "35b06c4b",
   "metadata": {},
   "outputs": [],
   "source": [
    "len(home_team)"
   ]
  },
  {
   "cell_type": "code",
   "execution_count": null,
   "id": "3b7c2ed6",
   "metadata": {},
   "outputs": [],
   "source": [
    "away_team = driver.find_elements(\"xpath\", '(//span[@class=\"awayTeam\"])/span[1]')"
   ]
  },
  {
   "cell_type": "code",
   "execution_count": null,
   "id": "75d81c3f",
   "metadata": {},
   "outputs": [],
   "source": [
    "len(away_team)"
   ]
  },
  {
   "cell_type": "code",
   "execution_count": null,
   "id": "ccddf902",
   "metadata": {},
   "outputs": [],
   "source": [
    "under_prob = driver.find_elements(\"xpath\", '(//div[@class=\"fprc\"])/span[1]')"
   ]
  },
  {
   "cell_type": "code",
   "execution_count": null,
   "id": "8a212e81",
   "metadata": {},
   "outputs": [],
   "source": [
    "len(under_prob)"
   ]
  },
  {
   "cell_type": "code",
   "execution_count": null,
   "id": "c5bd851c",
   "metadata": {},
   "outputs": [],
   "source": [
    "over_prob = driver.find_elements(\"xpath\", '(//div[@class=\"fprc\"])/span[2]')"
   ]
  },
  {
   "cell_type": "code",
   "execution_count": null,
   "id": "8f8ab2de",
   "metadata": {},
   "outputs": [],
   "source": [
    "len(over_prob)"
   ]
  },
  {
   "cell_type": "code",
   "execution_count": null,
   "id": "5b03c31b",
   "metadata": {},
   "outputs": [],
   "source": [
    "u_o = driver.find_elements(\"xpath\", '(//span[starts-with(@class, \"forepr \")])/span')"
   ]
  },
  {
   "cell_type": "code",
   "execution_count": null,
   "id": "9ed81dc7",
   "metadata": {},
   "outputs": [],
   "source": [
    "len(u_o)"
   ]
  },
  {
   "cell_type": "code",
   "execution_count": null,
   "id": "5d46ac9a",
   "metadata": {},
   "outputs": [],
   "source": [
    "predicted_score = driver.find_elements(\"xpath\", '(//div[starts-with(@class, \"rcnt \")])/div[5]')"
   ]
  },
  {
   "cell_type": "code",
   "execution_count": null,
   "id": "ad405bd0",
   "metadata": {},
   "outputs": [],
   "source": [
    "len(predicted_score)"
   ]
  },
  {
   "cell_type": "code",
   "execution_count": null,
   "id": "3996d293",
   "metadata": {},
   "outputs": [],
   "source": [
    "odds = driver.find_elements(\"xpath\", '(//div[starts-with(@class, \"rcnt \")])/div[8]/span')"
   ]
  },
  {
   "cell_type": "code",
   "execution_count": null,
   "id": "0b42869a",
   "metadata": {},
   "outputs": [],
   "source": [
    "len(odds)"
   ]
  },
  {
   "cell_type": "code",
   "execution_count": null,
   "id": "cc50c3bf",
   "metadata": {},
   "outputs": [],
   "source": [
    "len(u_o)"
   ]
  },
  {
   "cell_type": "markdown",
   "id": "8ee9fa7f",
   "metadata": {},
   "source": [
    "#### Append all the data to the Data Frame and preview the df_pred\n",
    "Here there is room for improvement. Right now it takes a bit of time to append due to the amount of data it needs to scrape."
   ]
  },
  {
   "cell_type": "code",
   "execution_count": null,
   "id": "4b5a6a31",
   "metadata": {},
   "outputs": [],
   "source": [
    "# in Dataframe appenden\n",
    "for i in range(len(odds)):\n",
    "\n",
    "    df_pred =df_pred.append({'Date Time':date[i].text, 'Home Team': home_team[i].text,\n",
    "                            'Away Team': away_team[i].text, 'Under Prob': under_prob[i].text, \n",
    "                            'Over Prob': over_prob[i].text, 'U/O': u_o[i].text,\n",
    "                            'Predicted Score': predicted_score[i].text, 'Odds': odds[i].text}, ignore_index=True)"
   ]
  },
  {
   "cell_type": "code",
   "execution_count": null,
   "id": "0f6845c8",
   "metadata": {},
   "outputs": [],
   "source": [
    "df_pred"
   ]
  },
  {
   "cell_type": "markdown",
   "id": "55927d8d",
   "metadata": {},
   "source": [
    "#### Split the columns \"Date\", \"Predicted Score\" and \"Probability\" and drop them"
   ]
  },
  {
   "cell_type": "code",
   "execution_count": null,
   "id": "d732e4a2",
   "metadata": {},
   "outputs": [],
   "source": [
    "df_pred[['Date', 'Time']] = df_pred['Date Time'].str.split(' ', expand=True)\n",
    "df_pred[['Score Home', 'Score Away']] = df_pred['Predicted Score'].str.split('-', expand=True)\n",
    "\n",
    "# drop the columns not needed\n",
    "df_pred = df_pred.drop(['Date Time', 'Predicted Score'], axis=1)"
   ]
  },
  {
   "cell_type": "markdown",
   "id": "7787751d",
   "metadata": {},
   "source": [
    "#### Re-arrange the columns"
   ]
  },
  {
   "cell_type": "code",
   "execution_count": null,
   "id": "861e7964",
   "metadata": {},
   "outputs": [],
   "source": [
    "# re arrange the columns \n",
    "df_pred = df_pred[['Date', 'Time', 'Home Team', 'Away Team', 'Under Prob', 'Over Prob', 'U/O', 'Score Home', \n",
    "         'Score Away', 'Odds']]"
   ]
  },
  {
   "cell_type": "code",
   "execution_count": null,
   "id": "9b07b5d1",
   "metadata": {},
   "outputs": [],
   "source": [
    "df_pred"
   ]
  },
  {
   "cell_type": "markdown",
   "id": "f12edaac",
   "metadata": {},
   "source": [
    "#### Store the data in CSV format "
   ]
  },
  {
   "cell_type": "code",
   "execution_count": null,
   "id": "2a111f56",
   "metadata": {},
   "outputs": [],
   "source": [
    "# create csv\n",
    "df_pred.to_csv('Extract O-U 2.5.csv', encoding='utf-8', index=False)"
   ]
  },
  {
   "cell_type": "code",
   "execution_count": null,
   "id": "5f60f439",
   "metadata": {},
   "outputs": [],
   "source": []
  }
 ],
 "metadata": {
  "kernelspec": {
   "display_name": "Python 3 (ipykernel)",
   "language": "python",
   "name": "python3"
  },
  "language_info": {
   "codemirror_mode": {
    "name": "ipython",
    "version": 3
   },
   "file_extension": ".py",
   "mimetype": "text/x-python",
   "name": "python",
   "nbconvert_exporter": "python",
   "pygments_lexer": "ipython3",
   "version": "3.10.9"
  }
 },
 "nbformat": 4,
 "nbformat_minor": 5
}
